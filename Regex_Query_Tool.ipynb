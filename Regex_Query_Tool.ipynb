{
 "cells": [
  {
   "cell_type": "code",
   "execution_count": 18,
   "metadata": {},
   "outputs": [
    {
     "name": "stdout",
     "output_type": "stream",
     "text": [
      "Enter a text you want to examine: I want that toy\n",
      "The given regex pattern is present in the concerned string\n"
     ]
    }
   ],
   "source": [
    "import re\n",
    "\n",
    "text_input = input(\"Enter a text you want to examine: \")\n",
    "\n",
    "regex_input = \"w[a-z]\"\n",
    "\n",
    "match = re.search(regex_input,text_input)\n",
    "\n",
    "if match:\n",
    "    print(\"The given regex pattern is present in the concerned string\")\n",
    "else:\n",
    "    print(\"The given regex pattern is not present in the concerned string\")"
   ]
  },
  {
   "cell_type": "code",
   "execution_count": null,
   "metadata": {},
   "outputs": [],
   "source": []
  }
 ],
 "metadata": {
  "kernelspec": {
   "display_name": "Python 3",
   "language": "python",
   "name": "python3"
  },
  "language_info": {
   "codemirror_mode": {
    "name": "ipython",
    "version": 3
   },
   "file_extension": ".py",
   "mimetype": "text/x-python",
   "name": "python",
   "nbconvert_exporter": "python",
   "pygments_lexer": "ipython3",
   "version": "3.8.5"
  }
 },
 "nbformat": 4,
 "nbformat_minor": 4
}
